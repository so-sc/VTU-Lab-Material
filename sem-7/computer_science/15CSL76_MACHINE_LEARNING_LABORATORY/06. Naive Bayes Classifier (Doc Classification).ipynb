{
 "cells": [
  {
   "cell_type": "code",
   "execution_count": null,
   "metadata": {},
   "outputs": [],
   "source": [
    "#!/usr/bin/env python\n",
    "# coding: utf-8\n",
    "\"\"\"\n",
    "Created on Sat Dec  8 23:36:12 IST 2018\n",
    "@author: Hitoshirenu\n",
    "\"\"\"\n",
    "\n",
    "# Import modules\n",
    "import pandas as pd\n",
    "\n",
    "# Read csv file content under attributes \"message\" and \"label\"\n",
    "msg = pd.read_csv(\"datasets/text_doc.csv\", names = [\"message\", \"label\"]) \n",
    "print(\"Total instances in the dataset:\", msg.shape[0])\n",
    "print(\"\\nThe message and its label of first 5 instances:\\n\", msg[0:5])\n",
    "\n",
    "# Create another column where pos/neg are in terms of 1/0\n",
    "msg[\"labelnum\"] = msg.label.map({\"pos\":1, \"neg\":0})\n",
    "X = msg.message\n",
    "Y = msg.labelnum\n",
    "\n",
    "# Split the data for training and testing   \n",
    "from sklearn.model_selection import train_test_split\n",
    "xtrain, xtest, ytrain, ytest = train_test_split(X,Y)\n",
    "print(\"\\nDataset is split into Training:{} and Testing:{} instances\".format(xtrain.shape[0], xtest.shape[0]))\n",
    "\n",
    "# Feature extraction form dataset\n",
    "from sklearn.feature_extraction.text import CountVectorizer\n",
    "count_vect = CountVectorizer()\n",
    "xtrain_dtm = count_vect.fit_transform(xtrain) \n",
    "xtest_dtm = count_vect.transform(xtest)\n",
    "print(\"\\nTotal features extracted using CountVectorizer:\",xtrain_dtm.shape[1])\n",
    "\n",
    "# Create a datafram according to pos/neg occurances\n",
    "df = pd.DataFrame(xtrain_dtm.toarray(), columns = count_vect.get_feature_names())\n",
    "print(\"\\nFeatures for first 5 training instances:\\n\", df[0:5])\n",
    "\n",
    "# Run prediction the dataset\n",
    "from sklearn.naive_bayes import MultinomialNB\n",
    "clf = MultinomialNB().fit(xtrain_dtm, ytrain)\n",
    "predicted = clf.predict(xtest_dtm)\n",
    "\n",
    "print(\"\\nClassstification results of testing samples are given below\")\n",
    "for doc, p in zip(xtest, predicted):\n",
    "    pred = \"pos\" if p == 1 else \"neg\"\n",
    "    print(\"{} -> {} \".format(doc, pred))\n",
    "\n",
    "from sklearn import metrics\n",
    "print(\"\\nAccuracy metrics\")\n",
    "print(\"Accuracy of the classifer: \", metrics.accuracy_score(ytest, predicted))\n",
    "print(\"Recall: \", metrics.recall_score(ytest, predicted))\n",
    "print(\"Precison :\", metrics.precision_score(ytest,predicted))\n",
    "print(\"Confusion matrix:\\n\", metrics.confusion_matrix(ytest,predicted))"
   ]
  }
 ],
 "metadata": {
  "kernelspec": {
   "display_name": "Python 3",
   "language": "python",
   "name": "python3"
  },
  "language_info": {
   "codemirror_mode": {
    "name": "ipython",
    "version": 3
   },
   "file_extension": ".py",
   "mimetype": "text/x-python",
   "name": "python",
   "nbconvert_exporter": "python",
   "pygments_lexer": "ipython3",
   "version": "3.6.6"
  }
 },
 "nbformat": 4,
 "nbformat_minor": 2
}

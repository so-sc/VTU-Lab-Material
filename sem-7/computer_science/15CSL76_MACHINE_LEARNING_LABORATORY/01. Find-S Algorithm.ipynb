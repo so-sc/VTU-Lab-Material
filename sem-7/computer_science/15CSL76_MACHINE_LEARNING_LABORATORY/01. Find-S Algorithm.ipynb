{
 "cells": [
  {
   "cell_type": "code",
   "execution_count": null,
   "metadata": {},
   "outputs": [],
   "source": [
    "#!/usr/bin/env python\n",
    "# coding: utf-8\n",
    "\"\"\"\n",
    "Created on Sat Dec  8 23:36:12 IST 2018\n",
    "@author: Hitoshirenu\n",
    "\"\"\"\n",
    "\n",
    "# Import modules\n",
    "import csv\n",
    "\n",
    "# Initialize a variable as list to save dataset\n",
    "data = [] # data --> dataset\n",
    "\n",
    "print(\"The Given Training Data:\")\n",
    "# Open the csv file in read mode and add rows to data\n",
    "with open(\"datasets/enjoysport.csv\", \"r\") as csvFile:\n",
    "    reader = csv.reader(csvFile)\n",
    "    for row in reader:\n",
    "        data.append(row)\n",
    "        print(row)\n",
    "    \n",
    "# Number of attributes i.e. all columns, excluding the last column\n",
    "num_attributes = len(data[0]) - 1\n",
    "\n",
    "# The number of \"?\" and \"0\" represent the number of attributes \n",
    "print(\"\\nThe most general hypothesis :\\n\", [\"0\"] * num_attributes)\n",
    "print(\"\\nThe most specific hypothesis :\\n\", [\"?\"] * num_attributes)\n",
    "\n",
    "hypothesis = [\"0\"] * num_attributes\n",
    "print(\"\\nInitial value of the hypothesis:\\n\",hypothesis)\n",
    "\n",
    "# First row values of the dataset without the last column value\n",
    "hypothesis = data[1][:-1]\n",
    "\n",
    "print(\"\\n**** Find S: Finding Maximally specific hypothesis ****\\n\")\n",
    "for i in range(1, len(data)):\n",
    "    # Check if the rows last value is \"yes\"\n",
    "    if data[i][num_attributes] == \"yes\":\n",
    "        for j in range(num_attributes):\n",
    "            hypothesis[j] = \"?\" if data[i][j] != hypothesis[j] else data[i][j]\n",
    "    print(\"For training example no :{} Hypothesis:{}\".format(i, hypothesis))\n",
    "\n",
    "print(\"\\nThe Maximally Specific Hypothesis for the given Training Examples:\\n\", hypothesis)"
   ]
  }
 ],
 "metadata": {
  "kernelspec": {
   "display_name": "Python 3",
   "language": "python",
   "name": "python3"
  },
  "language_info": {
   "codemirror_mode": {
    "name": "ipython",
    "version": 3
   },
   "file_extension": ".py",
   "mimetype": "text/x-python",
   "name": "python",
   "nbconvert_exporter": "python",
   "pygments_lexer": "ipython3",
   "version": "3.6.6"
  }
 },
 "nbformat": 4,
 "nbformat_minor": 2
}

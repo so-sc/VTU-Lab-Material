{
 "cells": [
  {
   "cell_type": "code",
   "execution_count": null,
   "metadata": {},
   "outputs": [],
   "source": [
    "#!/usr/bin/env python\n",
    "# coding: utf-8\n",
    "\"\"\"\n",
    "Created on Sat Dec  8 23:36:12 IST 2018\n",
    "@author: Hitoshirenu\n",
    "\"\"\"\n",
    "\n",
    "# Import modules\n",
    "from sklearn.model_selection import train_test_split\n",
    "from sklearn.neighbors import KNeighborsClassifier\n",
    "from sklearn import datasets\n",
    "\n",
    "# Load the iris dataset \n",
    "iris = datasets.load_iris()\n",
    "\n",
    "# Split the data into train and test samples\n",
    "xtrain, xtest, ytrain, ytest = train_test_split(iris.data, iris.target, test_size=0.1)\n",
    "print(\"\\nDataset is split into Training:{} and Testing:{} instances\".format(xtrain.shape[0], xtest.shape[0]))\n",
    "\n",
    "# Show what number corresponds to which label\n",
    "for index, value in enumerate(iris.target_names):\n",
    "    print(\"Label: {} --> {}\".format(index, value))\n",
    "\n",
    "# Create object of KNN classifier\n",
    "classifier = KNeighborsClassifier(n_neighbors = 1)\n",
    "\n",
    "# Perform Training\n",
    "classifier.fit(xtrain, ytrain)\n",
    "\n",
    "# Perform testing\n",
    "y_pred = classifier.predict(xtest)\n",
    "\n",
    "# Display the results\n",
    "print(\"Results of Classification using K-nn with K=1 \")\n",
    "for r in range(len(xtest)):\n",
    "    print(\"Sample:{} Actual-label:{} Predicted-label:{}\".format(xtest[r], ytest[r], y_pred[r]))\n",
    "print(\"Classification Accuracy :\" , classifier.score(xtest, ytest));"
   ]
  }
 ],
 "metadata": {
  "kernelspec": {
   "display_name": "Python 3",
   "language": "python",
   "name": "python3"
  },
  "language_info": {
   "codemirror_mode": {
    "name": "ipython",
    "version": 3
   },
   "file_extension": ".py",
   "mimetype": "text/x-python",
   "name": "python",
   "nbconvert_exporter": "python",
   "pygments_lexer": "ipython3",
   "version": "3.6.6"
  }
 },
 "nbformat": 4,
 "nbformat_minor": 2
}
